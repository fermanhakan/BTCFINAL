{
 "cells": [
  {
   "cell_type": "code",
   "execution_count": 1,
   "id": "d663300b",
   "metadata": {},
   "outputs": [
    {
     "name": "stdout",
     "output_type": "stream",
     "text": [
      "Requirement already satisfied: bitcoin in ./opt/anaconda3/lib/python3.9/site-packages (1.1.42)\n",
      "Note: you may need to restart the kernel to use updated packages.\n"
     ]
    }
   ],
   "source": [
    "pip install bitcoin"
   ]
  },
  {
   "cell_type": "code",
   "execution_count": 2,
   "id": "85351215",
   "metadata": {},
   "outputs": [],
   "source": [
    "from bitcoin import *"
   ]
  },
  {
   "cell_type": "code",
   "execution_count": 3,
   "id": "b425367a",
   "metadata": {},
   "outputs": [
    {
     "name": "stdout",
     "output_type": "stream",
     "text": [
      "Private Key: e35650eba4e6a36622d5fc4cc1d290f1c0090ab69b1e64c7640f1fa7231484fe\n",
      " 45fa2e354611a1e1541e86790e7113eb4f56466d75b4fafdd65e7498083879f8 ec7a22fc4cd08932e4264ac59801da6f68a1f551c57b0b74d1974e108556f2e3 12f17ed88f5f8d0c8170363a9b3773d69e40b971448b420edb950fdf641851d3 97155501c3e57935b30f131d2ca590acfe97c66b06255042f0cf7e417b82c509\n"
     ]
    }
   ],
   "source": [
    "hakan1private_key1 = random_key()\n",
    "hakan2private_key2 = random_key()\n",
    "aliceprivate_key3 = random_key()\n",
    "bobprivate_key4 = random_key()\n",
    "cooprivate_key5 = random_key()\n",
    "print(\"Private Key: %s\\n\" % hakan1private_key1,hakan2private_key2,aliceprivate_key3,bobprivate_key4,cooprivate_key5)\n",
    " "
   ]
  },
  {
   "cell_type": "code",
   "execution_count": 4,
   "id": "4d2ca808",
   "metadata": {},
   "outputs": [
    {
     "name": "stdout",
     "output_type": "stream",
     "text": [
      "Public Key: 048e65b6f014efb7c6ef2570663d8252817ed7439bade48cf6ff6a1469659838865aa7c2801ec3cd260792bcbb4c91db309a66e9f584625037c22a562b39a65a41\n",
      " 047364db93d490d6e2025a56dd0ba12eed15f18d6f06407e5067669a95cdaaeb636ef119a875af3a1c0f3ec1d9fd932d5d079fb89f2072fb4d0812b73d6639fd02 040ad3b1c7f9aa4e9778952b34858ddebb8e381cf13c6c67f9af235fe9a3487c62cef44732bc73b8d883af8a8ed881f716fdf6f2898183586e2f5cb78c2f362995 043c9f871c4c72b70cd17dcbd22bcb700550a239cb45147354d8cfa4982ce04a7a54288aa28ec69eb07ff0506a5cf4da48c888fff53e88a4ce2d32601a76cb0024 046d4655c6d1369a98ae2f1709fc24cd54a61baf1f177d17cea4439b68846255a0acc612ce68fc262974031e7a83011737d5862ceb5501284fc4433f1835f210ee\n"
     ]
    }
   ],
   "source": [
    "hakan1public_key1 = privtopub(hakan1private_key1)\n",
    "hakan2public_key2 = privtopub(hakan2private_key2)\n",
    "alicepublic_key3 = privtopub(aliceprivate_key3)\n",
    "bobpublic_key4 = privtopub(bobprivate_key4)\n",
    "coopublic_key5 = privtopub(cooprivate_key5)\n",
    "print(\"Public Key: %s\\n\" % hakan1public_key1,hakan2public_key2, alicepublic_key3,bobpublic_key4,coopublic_key5)"
   ]
  },
  {
   "cell_type": "code",
   "execution_count": 6,
   "id": "9aeb52bd",
   "metadata": {},
   "outputs": [
    {
     "name": "stdout",
     "output_type": "stream",
     "text": [
      "Multisignature Address: 3F9c728WyoiF5hPmCkQshe5TPmXAxzAQNF\n",
      "\n"
     ]
    }
   ],
   "source": [
    "my_mulit_sig = mk_multisig_script(hakan1private_key1,hakan2private_key2, aliceprivate_key3, bobprivate_key4, cooprivate_key5, 3, 5)\n",
    "my_mulit_address = scriptaddr(my_mulit_sig)\n",
    "print(\"Multisignature Address: %s\\n\" % my_mulit_address)"
   ]
  },
  {
   "cell_type": "code",
   "execution_count": null,
   "id": "5b427e62",
   "metadata": {},
   "outputs": [],
   "source": []
  }
 ],
 "metadata": {
  "kernelspec": {
   "display_name": "Python 3 (ipykernel)",
   "language": "python",
   "name": "python3"
  },
  "language_info": {
   "codemirror_mode": {
    "name": "ipython",
    "version": 3
   },
   "file_extension": ".py",
   "mimetype": "text/x-python",
   "name": "python",
   "nbconvert_exporter": "python",
   "pygments_lexer": "ipython3",
   "version": "3.9.7"
  }
 },
 "nbformat": 4,
 "nbformat_minor": 5
}
